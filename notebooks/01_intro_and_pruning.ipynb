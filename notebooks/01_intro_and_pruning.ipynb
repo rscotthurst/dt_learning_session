{
 "cells": [
  {
   "cell_type": "markdown",
   "id": "86e73209-6738-4e4c-b29d-a78be356fb6b",
   "metadata": {},
   "source": [
    "# Introduction to Decision Trees"
   ]
  },
  {
   "cell_type": "markdown",
   "id": "9532a5e9-efb0-43e7-bb73-3461cb15af10",
   "metadata": {},
   "source": [
    "<img src=\"../images/tree_graphic.jpg\" width=\"800\">"
   ]
  },
  {
   "cell_type": "markdown",
   "id": "cf411ac2-d7f2-4cb7-b40e-47875c98b101",
   "metadata": {},
   "source": [
    "# Lets GO!"
   ]
  },
  {
   "cell_type": "markdown",
   "id": "5345c4c6-685c-4e07-a8d9-ec0cabc4814b",
   "metadata": {},
   "source": [
    "### Import Libraries"
   ]
  },
  {
   "cell_type": "code",
   "execution_count": null,
   "id": "19c59f3e-fb07-4c30-99ae-cdfc45c12037",
   "metadata": {},
   "outputs": [],
   "source": [
    "import pandas as pd\n",
    "import seaborn as sns\n",
    "from sklearn import datasets\n",
    "\n",
    "sns.set(rc={'figure.figsize':(7.5,5)})"
   ]
  },
  {
   "cell_type": "markdown",
   "id": "50961db1-09de-4b80-99a3-b069d61a5592",
   "metadata": {},
   "source": [
    "### Load Iris Dataset"
   ]
  },
  {
   "cell_type": "code",
   "execution_count": null,
   "id": "3a7d2d1d-893b-4cb9-b4ef-995f20b65318",
   "metadata": {},
   "outputs": [],
   "source": [
    "data = datasets.load_iris()\n",
    "\n",
    "iris = pd.DataFrame(data['data'], columns=data['feature_names'])\n",
    "iris['target'] = data['target']\n",
    "iris = iris.assign(species=lambda x: x['target'].map(dict(enumerate(data['target_names']))))\n",
    "\n",
    "# Shuffle dataset and print first 5 rows\n",
    "iris.sample(frac=1, random_state=32).head()"
   ]
  },
  {
   "cell_type": "code",
   "execution_count": null,
   "id": "35f044fb-a29d-4645-9e5c-a4f81af45837",
   "metadata": {},
   "outputs": [],
   "source": [
    "iris.groupby(['target', 'species']).median()"
   ]
  },
  {
   "cell_type": "markdown",
   "id": "858c4fb1-eb14-4c9c-96af-1d170ab9e7d1",
   "metadata": {},
   "source": [
    "### Plot Sepal and Petal Shapes"
   ]
  },
  {
   "cell_type": "markdown",
   "id": "31d8d5a8-307e-4e1a-979a-fea8577913d9",
   "metadata": {},
   "source": [
    "<img src=\"../images/iris.png\" width=\"800\">"
   ]
  },
  {
   "cell_type": "code",
   "execution_count": null,
   "id": "1a0a27c6-3183-4591-920f-165580ce918d",
   "metadata": {},
   "outputs": [],
   "source": [
    "sns.scatterplot(x='sepal length (cm)', y='sepal width (cm)', data=iris, hue='species')"
   ]
  },
  {
   "cell_type": "code",
   "execution_count": null,
   "id": "c73647b2-1123-4804-94d2-a20b086bd19b",
   "metadata": {},
   "outputs": [],
   "source": [
    "sns.scatterplot(x='petal length (cm)', y='petal width (cm)', data=iris, hue='species')"
   ]
  },
  {
   "cell_type": "markdown",
   "id": "63066eae-2cb8-43c2-941e-be1912f89666",
   "metadata": {},
   "source": [
    "### Decision Trees are Cool BUT...\n",
    "They quickly overfit if we don't know what we're doing"
   ]
  },
  {
   "cell_type": "code",
   "execution_count": null,
   "id": "c1593b8d-6931-4625-9f99-0e902eb4e9bc",
   "metadata": {},
   "outputs": [],
   "source": [
    "X = iris[['sepal length (cm)', 'sepal width (cm)']].to_numpy()\n",
    "y = iris[['target']].to_numpy()"
   ]
  },
  {
   "cell_type": "code",
   "execution_count": null,
   "id": "069679bb-ff4c-4ac2-a75f-d49a67a275ad",
   "metadata": {},
   "outputs": [],
   "source": [
    "from sklearn.tree import DecisionTreeClassifier\n",
    "import numpy as np\n",
    "import matplotlib.pyplot as plt\n",
    "from matplotlib.colors import ListedColormap\n",
    "\n",
    "\n",
    "def plot_surface(X, y, max_depth=None, max_leaf_nodes=None, min_impurity_decrease=0):\n",
    "    x_min, x_max = X[:, 0].min() - 0.1, X[:, 0].max() + 0.1\n",
    "    y_min, y_max = X[:, 1].min() - 0.1, X[:, 1].max() + 0.1\n",
    "    xx, yy = np.meshgrid(np.arange(x_min, x_max, 0.01), np.arange(y_min, y_max, 0.01))\n",
    "    X_grid = np.c_[xx.ravel(), yy.ravel()]\n",
    "\n",
    "    # Predict\n",
    "    model = DecisionTreeClassifier(\n",
    "        max_depth=max_depth,\n",
    "        max_leaf_nodes=max_leaf_nodes,\n",
    "        min_impurity_decrease=min_impurity_decrease\n",
    "    )\n",
    "    model.fit(X, y)\n",
    "    z = model.predict(X_grid)\n",
    "    z = z.reshape(xx.shape)\n",
    "\n",
    "    # Plot\n",
    "    plt.figure()\n",
    "    plt.contourf(xx, yy, z, cmap=ListedColormap([\"blue\", \"red\", \"green\"]), alpha=.2)\n",
    "    plt.scatter(X[:, 0], X[:, 1], cmap=ListedColormap([\"blue\", \"red\", \"green\"]), s=20, c=y)\n",
    "    \n",
    "    plt.title(f\"Max Depth: {max_depth}, Max Leaves: {max_leaf_nodes}, Min Impurity Decrease: {min_impurity_decrease}\")\n",
    "    plt.show()"
   ]
  },
  {
   "cell_type": "code",
   "execution_count": null,
   "id": "2ac5c2f6-4bba-4a3d-96f0-fad6ad39fb08",
   "metadata": {},
   "outputs": [],
   "source": [
    "plot_surface(X, y)"
   ]
  },
  {
   "cell_type": "markdown",
   "id": "9d07e7b3-acf2-45ac-8ea3-1577eb01b119",
   "metadata": {},
   "source": [
    "### Pruning"
   ]
  },
  {
   "cell_type": "markdown",
   "id": "41f134a5-99bf-4d80-9610-365969ecfbac",
   "metadata": {},
   "source": [
    "#### Max Depth\n",
    "\n",
    "This parameter sets the max depth, or number of decisions being made in our tree. The lower the number, the less decision boundaries you will have."
   ]
  },
  {
   "cell_type": "code",
   "execution_count": null,
   "id": "c6e22696-31f7-4a90-981b-5bac0ea47089",
   "metadata": {},
   "outputs": [],
   "source": [
    "for depth in [1, 3, 5, 7]:\n",
    "    plot_surface(X,y, max_depth=depth)"
   ]
  },
  {
   "cell_type": "markdown",
   "id": "e1eac95c-f926-4777-8b9b-42b063a22651",
   "metadata": {},
   "source": [
    "#### Max Leaves\n",
    "\n",
    "This parameter sets the maximum number of leaf nodes (or decisions). The fewer nodes allowed, the less decision boundaries your tree will create."
   ]
  },
  {
   "cell_type": "code",
   "execution_count": null,
   "id": "94ef1e7e-060f-4fee-95db-705d8b3e7ec8",
   "metadata": {},
   "outputs": [],
   "source": [
    "for nodes in [2, 3, 5, 7]:\n",
    "    plot_surface(X,y, max_leaf_nodes=nodes)"
   ]
  },
  {
   "cell_type": "markdown",
   "id": "84bd46fb-3e99-4665-be74-70fd1db37e5e",
   "metadata": {},
   "source": [
    "#### Minimum Impurity Decrease\n",
    "\n",
    "The definition of impurity is out of scope for this quick course, but this parameter forces the model to only create new decision boundaries that contribute enough impurity decrease to the model. The higher the number, the less decision boundaries will be created."
   ]
  },
  {
   "cell_type": "code",
   "execution_count": null,
   "id": "ea5f0f14-0f55-47b5-9b99-a1771433d50a",
   "metadata": {},
   "outputs": [],
   "source": [
    "for depth in [0, .01, .1, .25]:\n",
    "    plot_surface(X,y, min_impurity_decrease=depth)"
   ]
  },
  {
   "cell_type": "markdown",
   "id": "a82637ee-3cc0-4262-a25e-e749f2d4535b",
   "metadata": {},
   "source": [
    "### Cross Validation: What's the best tree?"
   ]
  },
  {
   "cell_type": "code",
   "execution_count": null,
   "id": "eb6d75b9-4100-454d-89e6-d1cc8d8255d4",
   "metadata": {},
   "outputs": [],
   "source": [
    "from sklearn.model_selection import GridSearchCV\n",
    "\n",
    "model = DecisionTreeClassifier()\n",
    "\n",
    "cv_params = {\n",
    "    'max_depth': [1, 3, 5, 7],\n",
    "    'max_leaf_nodes': [2, 3, 5, 7],\n",
    "    'min_impurity_decrease': [0, .01, .1, .25]\n",
    "}"
   ]
  },
  {
   "cell_type": "code",
   "execution_count": null,
   "id": "ae72ba32-265d-4eb7-9fb8-86447e88d4da",
   "metadata": {},
   "outputs": [],
   "source": [
    "grid_search = GridSearchCV(model, param_grid=cv_params)\n",
    "\n",
    "grid_search.fit(X,y)"
   ]
  },
  {
   "cell_type": "code",
   "execution_count": null,
   "id": "05e7f6f1-a120-4dbd-bb07-c00b073134c7",
   "metadata": {},
   "outputs": [],
   "source": [
    "grid_search.best_params_"
   ]
  },
  {
   "cell_type": "code",
   "execution_count": null,
   "id": "855bbc9c-48aa-4cdb-ab6b-54531704e8e4",
   "metadata": {},
   "outputs": [],
   "source": [
    "plot_surface(\n",
    "    X, y,\n",
    "    max_depth=grid_search.best_params_['max_depth'],\n",
    "    max_leaf_nodes=grid_search.best_params_['max_leaf_nodes'],\n",
    "    min_impurity_decrease=grid_search.best_params_['min_impurity_decrease']\n",
    ")"
   ]
  },
  {
   "cell_type": "code",
   "execution_count": null,
   "id": "c4fda906-360a-49e4-ab80-b177900a6487",
   "metadata": {},
   "outputs": [],
   "source": []
  }
 ],
 "metadata": {
  "kernelspec": {
   "display_name": "Python 3 (ipykernel)",
   "language": "python",
   "name": "python3"
  },
  "language_info": {
   "codemirror_mode": {
    "name": "ipython",
    "version": 3
   },
   "file_extension": ".py",
   "mimetype": "text/x-python",
   "name": "python",
   "nbconvert_exporter": "python",
   "pygments_lexer": "ipython3",
   "version": "3.8.13"
  }
 },
 "nbformat": 4,
 "nbformat_minor": 5
}
