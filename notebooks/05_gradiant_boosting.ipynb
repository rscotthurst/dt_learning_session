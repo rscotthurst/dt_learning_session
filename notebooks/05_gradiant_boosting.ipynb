{
 "cells": [
  {
   "cell_type": "markdown",
   "id": "86e73209-6738-4e4c-b29d-a78be356fb6b",
   "metadata": {},
   "source": [
    "# Gradiant Boosting"
   ]
  },
  {
   "cell_type": "markdown",
   "id": "d2dc9177-1bbc-40fa-b7f3-51628a61ca7a",
   "metadata": {},
   "source": [
    "### Why Boosting?\n",
    "\n",
    "Think about how Bagging worked, we took a subset of features and the model, then taking another subset and training again, and again, and again. We end up with a bunch of models fitted to those specific dataset (so they have high variance). Then we try and reduce that variance by ensembling all the high variance models into something a little smoother.\n",
    "\n",
    "BUT... What if we approached the other way? Trained a bunch of weak learners with high bias, could we ensemble those together somehow? We can't just do some simple voting, because the models are too biased and we'd never cut through the noise. That's where Gradiant Boosting comes in.\n",
    "\n",
    "Gradiant Boosted models are complex, and way more than we can explain here. If you want to learn more, MLU is a great resource:"
   ]
  },
  {
   "cell_type": "markdown",
   "id": "aefcadda-08eb-43a7-baf0-6bca93231903",
   "metadata": {},
   "source": [
    "### General Boosting"
   ]
  },
  {
   "cell_type": "markdown",
   "id": "3fea4aa6-3d08-4cac-ac9f-0e30bcc52a12",
   "metadata": {},
   "source": [
    "[Boosting](https://www.youtube.com/watch?v=zGp6X6rLhQ0&list=PL8P_Z6C4GcuXrj9crYtU_XaYh3Jac4x0p&index=32) \n",
    "\n",
    "[Gradiant Boosting](https://www.youtube.com/watch?v=vV3dKjfiT_c&list=PL8P_Z6C4GcuXrj9crYtU_XaYh3Jac4x0p&index=33)"
   ]
  },
  {
   "cell_type": "markdown",
   "id": "bf324574-47c3-4b89-8c1d-37cc7191d12d",
   "metadata": {},
   "source": [
    "### XGBoost"
   ]
  },
  {
   "cell_type": "markdown",
   "id": "c75517e8-7614-45aa-ad52-53c47e3b4a08",
   "metadata": {},
   "source": [
    "[MLU Video](https://www.youtube.com/watch?v=RGR1BL4WEe0&list=PL8P_Z6C4GcuXrj9crYtU_XaYh3Jac4x0p&index=34)"
   ]
  },
  {
   "cell_type": "markdown",
   "id": "2cc7e35a-f1d2-4092-9730-0da64c8b0355",
   "metadata": {},
   "source": [
    "### LightGBM"
   ]
  },
  {
   "cell_type": "markdown",
   "id": "56cbf497-a7ac-43c8-9c6f-4595b2cbcb18",
   "metadata": {},
   "source": [
    "[MLU Video](https://www.youtube.com/watch?v=NsCdkzi2soE&list=PL8P_Z6C4GcuXrj9crYtU_XaYh3Jac4x0p&index=35)\n",
    "\n",
    "[Code](https://github.com/aws-samples/aws-machine-learning-university-dte/blob/main/notebooks/lecture_5/DTE-LECTURE-5-LIGHTGBM.ipynb)"
   ]
  },
  {
   "cell_type": "markdown",
   "id": "23e5f8c3-acb3-440d-82c6-0b35d0d32852",
   "metadata": {},
   "source": [
    "### CatBoost"
   ]
  },
  {
   "cell_type": "markdown",
   "id": "5b6f6ca9-672c-4b22-8340-b7e2e55214b3",
   "metadata": {},
   "source": [
    "[MLU Video](https://www.youtube.com/watch?v=668Yj2sgQo4&list=PL8P_Z6C4GcuXrj9crYtU_XaYh3Jac4x0p&index=36)\n",
    "\n",
    "[Code](https://github.com/aws-samples/aws-machine-learning-university-dte/blob/main/notebooks/lecture_5/DTE-LECTURE-5-CATBOOST.ipynb)"
   ]
  },
  {
   "cell_type": "code",
   "execution_count": null,
   "id": "29c210c4-34c3-4e66-a2d1-6fe4c21ed4e5",
   "metadata": {},
   "outputs": [],
   "source": []
  }
 ],
 "metadata": {
  "kernelspec": {
   "display_name": "Python 3 (ipykernel)",
   "language": "python",
   "name": "python3"
  },
  "language_info": {
   "codemirror_mode": {
    "name": "ipython",
    "version": 3
   },
   "file_extension": ".py",
   "mimetype": "text/x-python",
   "name": "python",
   "nbconvert_exporter": "python",
   "pygments_lexer": "ipython3",
   "version": "3.8.13"
  }
 },
 "nbformat": 4,
 "nbformat_minor": 5
}
